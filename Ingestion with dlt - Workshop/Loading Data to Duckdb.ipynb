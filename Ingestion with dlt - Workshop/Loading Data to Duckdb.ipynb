{
 "cells": [
  {
   "cell_type": "code",
   "execution_count": null,
   "id": "930fd827-892e-4cde-8925-a9a478898206",
   "metadata": {},
   "outputs": [],
   "source": [
    "#!pip install duckdb\n",
    "#!pip install dlt[duckdb]"
   ]
  },
  {
   "cell_type": "code",
   "execution_count": 7,
   "id": "6d7f2228-7091-4c17-b7dc-9f044d25d0f0",
   "metadata": {},
   "outputs": [
    {
     "name": "stdout",
     "output_type": "stream",
     "text": [
      "dlt version: 1.6.1\n"
     ]
    }
   ],
   "source": [
    "import dlt\n",
    "print(\"dlt version:\", dlt.__version__)"
   ]
  },
  {
   "cell_type": "code",
   "execution_count": null,
   "id": "d9d7ac56-cd2e-4f6e-9726-30ad5392c75c",
   "metadata": {},
   "outputs": [],
   "source": []
  },
  {
   "cell_type": "markdown",
   "id": "a77b59c4-4eb0-4f05-99c3-562c2e11358e",
   "metadata": {},
   "source": [
    "### Define the Data Extraction Logic\n",
    "We'll define the API source using the @dlt.resource decorator and use the built-in RESTClient to handle pagination."
   ]
  },
  {
   "cell_type": "code",
   "execution_count": 18,
   "id": "5d68dadc-59ac-42eb-9aeb-586170ec71a7",
   "metadata": {},
   "outputs": [],
   "source": [
    "import dlt\n",
    "from dlt.sources.helpers.rest_client import RESTClient\n",
    "from dlt.sources.helpers.rest_client.paginators import PageNumberPaginator\n",
    "\n",
    "\n",
    "@dlt.resource(name=\"rides\", write_disposition=\"replace\")\n",
    "def ny_taxi():\n",
    "    client = RESTClient(\n",
    "        base_url=\"https://us-central1-dlthub-analytics.cloudfunctions.net\",\n",
    "        paginator=PageNumberPaginator(\n",
    "            base_page=1,\n",
    "            total_path=None\n",
    "        )\n",
    "    )\n",
    "\n",
    "    for page in client.paginate(\"data_engineering_zoomcamp_api\"):\n",
    "        yield page"
   ]
  },
  {
   "cell_type": "code",
   "execution_count": null,
   "id": "d9ebf230-569a-464f-9740-e4b9d270884e",
   "metadata": {},
   "outputs": [],
   "source": []
  },
  {
   "cell_type": "markdown",
   "id": "74d27800-81c5-495b-93bc-78a2daf47862",
   "metadata": {},
   "source": [
    "### Create the DLT Pipeline\n",
    "We'll define the dlt.pipeline() to load the extracted data into DuckDB:"
   ]
  },
  {
   "cell_type": "code",
   "execution_count": 19,
   "id": "4b368203-6a15-4dba-8940-f0ac8c2819dc",
   "metadata": {},
   "outputs": [
    {
     "name": "stdout",
     "output_type": "stream",
     "text": [
      "Pipeline ny_taxi_pipeline load step completed in 2.62 seconds\n",
      "1 load package(s) were loaded to destination duckdb and into dataset ny_taxi_data\n",
      "The duckdb destination used duckdb:///C:\\Users\\niky4\\ny_taxi_pipeline.duckdb location to store data\n",
      "Load package 1739811607.3348522 is LOADED and contains no failed jobs\n"
     ]
    }
   ],
   "source": [
    "# Create the pipeline to load data into DuckDB\n",
    "pipeline = dlt.pipeline(\n",
    "    pipeline_name=\"ny_taxi_pipeline\",\n",
    "    destination=\"duckdb\",\n",
    "    dataset_name=\"ny_taxi_data\"\n",
    ")\n",
    "\n",
    "\n",
    "# Extract data and load it into DuckDB\n",
    "load_info = pipeline.run(ny_taxi())\n",
    "\n",
    "# Display the load summary\n",
    "print(load_info)"
   ]
  },
  {
   "cell_type": "code",
   "execution_count": null,
   "id": "8a8c62cc-9f8c-49b1-8218-ac50084bf395",
   "metadata": {},
   "outputs": [],
   "source": []
  },
  {
   "cell_type": "markdown",
   "id": "69416d7a-0c95-4048-b534-a16c1eed6f70",
   "metadata": {},
   "source": [
    "### Establish connection in DuckDB\n",
    "This connects to the DuckDB database file (ny_taxi_pipeline.duckdb) created by the dlt pipeline and sets the search path to the dataset (ny_taxi_data)."
   ]
  },
  {
   "cell_type": "code",
   "execution_count": 20,
   "id": "5275f8cf-9946-412e-9843-ae55f5ae1e22",
   "metadata": {},
   "outputs": [
    {
     "data": {
      "text/plain": [
       "<duckdb.duckdb.DuckDBPyConnection at 0x1770de72ab0>"
      ]
     },
     "execution_count": 20,
     "metadata": {},
     "output_type": "execute_result"
    }
   ],
   "source": [
    "import duckdb\n",
    "\n",
    "# Connect to the DuckDB database created by the pipeline\n",
    "conn = duckdb.connect(\"ny_taxi_pipeline.duckdb\")\n",
    "\n",
    "# Set search path to the dataset\n",
    "conn.execute(\"SET search_path = 'ny_taxi_data'\")"
   ]
  },
  {
   "cell_type": "code",
   "execution_count": 17,
   "id": "e6be1daf-69bb-469f-a3c6-70accbe94ccd",
   "metadata": {},
   "outputs": [
    {
     "name": "stdout",
     "output_type": "stream",
     "text": [
      "[]\n"
     ]
    }
   ],
   "source": []
  },
  {
   "cell_type": "markdown",
   "id": "487ad197-fb2b-48b4-aff3-dc41cc88c85f",
   "metadata": {},
   "source": [
    "### List All Tables\n",
    "To see the tables created in the database, run:"
   ]
  },
  {
   "cell_type": "code",
   "execution_count": 21,
   "id": "b2621fe0-86e5-438c-98bc-8570412d6710",
   "metadata": {},
   "outputs": [
    {
     "name": "stdout",
     "output_type": "stream",
     "text": [
      "                  name\n",
      "0           _dlt_loads\n",
      "1  _dlt_pipeline_state\n",
      "2         _dlt_version\n",
      "3                rides\n"
     ]
    }
   ],
   "source": [
    "# List all tables in the current dataset\n",
    "tables = conn.execute(\"SHOW TABLES\").fetchdf()\n",
    "\n",
    "# Display the tables\n",
    "print(tables)"
   ]
  },
  {
   "cell_type": "code",
   "execution_count": null,
   "id": "b06ef5c6-5f4c-42c8-b87b-c32da3ca93ae",
   "metadata": {},
   "outputs": [],
   "source": []
  },
  {
   "cell_type": "markdown",
   "id": "25bcfff5-d555-44dd-ba1d-a867f3d8aa6d",
   "metadata": {},
   "source": [
    "### Describe the Tables\n",
    "To check the schema of the tables:"
   ]
  },
  {
   "cell_type": "code",
   "execution_count": 23,
   "id": "16da8e01-a0dc-4e94-bb79-6b1af547a6bc",
   "metadata": {},
   "outputs": [
    {
     "name": "stdout",
     "output_type": "stream",
     "text": [
      "               column_name               column_type null   key default extra\n",
      "0                  end_lat                    DOUBLE  YES  None    None  None\n",
      "1                  end_lon                    DOUBLE  YES  None    None  None\n",
      "2                 fare_amt                    DOUBLE  YES  None    None  None\n",
      "3          passenger_count                    BIGINT  YES  None    None  None\n",
      "4             payment_type                   VARCHAR  YES  None    None  None\n",
      "5                start_lat                    DOUBLE  YES  None    None  None\n",
      "6                start_lon                    DOUBLE  YES  None    None  None\n",
      "7                  tip_amt                    DOUBLE  YES  None    None  None\n",
      "8                tolls_amt                    DOUBLE  YES  None    None  None\n",
      "9                total_amt                    DOUBLE  YES  None    None  None\n",
      "10           trip_distance                    DOUBLE  YES  None    None  None\n",
      "11  trip_dropoff_date_time  TIMESTAMP WITH TIME ZONE  YES  None    None  None\n",
      "12   trip_pickup_date_time  TIMESTAMP WITH TIME ZONE  YES  None    None  None\n",
      "13               surcharge                    DOUBLE  YES  None    None  None\n",
      "14             vendor_name                   VARCHAR  YES  None    None  None\n",
      "15            _dlt_load_id                   VARCHAR   NO  None    None  None\n",
      "16                 _dlt_id                   VARCHAR   NO  None    None  None\n",
      "17       store_and_forward                    DOUBLE  YES  None    None  None\n"
     ]
    }
   ],
   "source": [
    "# Describe the rides table schema\n",
    "schema = conn.execute(\"DESCRIBE rides\").fetchdf()\n",
    "\n",
    "# Display the schema details\n",
    "print(schema)"
   ]
  },
  {
   "cell_type": "code",
   "execution_count": null,
   "id": "4ce360ea-fee0-454a-8d7e-dfc2ef755112",
   "metadata": {},
   "outputs": [],
   "source": []
  },
  {
   "cell_type": "markdown",
   "id": "087236e2-9222-419f-b167-f9d64d2c2211",
   "metadata": {},
   "source": [
    "### View Sample Data\n",
    "We can also look at the first few rows of data to get a feel for the content:"
   ]
  },
  {
   "cell_type": "code",
   "execution_count": 24,
   "id": "a66250b3-29b1-4961-8777-d0346e863a06",
   "metadata": {},
   "outputs": [
    {
     "name": "stdout",
     "output_type": "stream",
     "text": [
      "     end_lat    end_lon  fare_amt  passenger_count payment_type  start_lat  \\\n",
      "0  40.742963 -73.980072      45.0                1       Credit  40.641525   \n",
      "1  40.740187 -74.005698       6.5                1       Credit  40.722065   \n",
      "2  40.718043 -74.004745      12.5                5       Credit  40.761945   \n",
      "3  40.739637 -73.985233       4.9                1         CASH  40.749802   \n",
      "4  40.730032 -73.852693      25.7                1         CASH  40.776825   \n",
      "\n",
      "   start_lon  tip_amt  tolls_amt  total_amt  trip_distance  \\\n",
      "0 -73.787442      9.0       4.15      58.15          17.52   \n",
      "1 -74.009767      1.0       0.00       8.50           1.56   \n",
      "2 -73.983038      2.0       0.00      15.50           3.37   \n",
      "3 -73.992247      0.0       0.00       5.40           1.11   \n",
      "4 -73.949233      0.0       4.15      29.85          11.09   \n",
      "\n",
      "     trip_dropoff_date_time     trip_pickup_date_time  surcharge vendor_name  \\\n",
      "0 2009-06-15 00:48:00+01:00 2009-06-15 00:23:00+01:00        0.0         VTS   \n",
      "1 2009-06-18 18:43:00+01:00 2009-06-18 18:35:00+01:00        1.0         VTS   \n",
      "2 2009-06-10 19:27:00+01:00 2009-06-10 19:08:00+01:00        1.0         VTS   \n",
      "3 2009-06-15 00:58:00+01:00 2009-06-15 00:54:00+01:00        0.5         VTS   \n",
      "4 2009-06-13 14:23:00+01:00 2009-06-13 14:01:00+01:00        0.0         VTS   \n",
      "\n",
      "         _dlt_load_id         _dlt_id  store_and_forward  \n",
      "0  1739811607.3348522  nSxIHxP2FNfcIw                NaN  \n",
      "1  1739811607.3348522  CsHkNSwo0c54BA                NaN  \n",
      "2  1739811607.3348522  fYpxXR2rn2+zVw                NaN  \n",
      "3  1739811607.3348522  D6bW8XFgEX3ZuQ                NaN  \n",
      "4  1739811607.3348522  g0Ivj9Wd2HqpHg                NaN  \n"
     ]
    }
   ],
   "source": [
    "# Preview the first 5 rows of the rides table\n",
    "sample_data = conn.execute(\"SELECT * FROM rides LIMIT 5\").fetchdf()\n",
    "\n",
    "# Display the sample data\n",
    "print(sample_data)\n"
   ]
  },
  {
   "cell_type": "code",
   "execution_count": null,
   "id": "c60709be-b520-4a40-906c-4b99655751fc",
   "metadata": {},
   "outputs": [],
   "source": []
  },
  {
   "cell_type": "markdown",
   "id": "d70a14f1-1fb7-4f63-afe9-8db99e58aed1",
   "metadata": {},
   "source": [
    "### Explore the loaded data\n",
    "Inspect the table ride:"
   ]
  },
  {
   "cell_type": "code",
   "execution_count": 25,
   "id": "e4bccdd0-5ff5-41a8-a977-9a90d440a83d",
   "metadata": {},
   "outputs": [
    {
     "data": {
      "text/html": [
       "<div>\n",
       "<style scoped>\n",
       "    .dataframe tbody tr th:only-of-type {\n",
       "        vertical-align: middle;\n",
       "    }\n",
       "\n",
       "    .dataframe tbody tr th {\n",
       "        vertical-align: top;\n",
       "    }\n",
       "\n",
       "    .dataframe thead th {\n",
       "        text-align: right;\n",
       "    }\n",
       "</style>\n",
       "<table border=\"1\" class=\"dataframe\">\n",
       "  <thead>\n",
       "    <tr style=\"text-align: right;\">\n",
       "      <th></th>\n",
       "      <th>end_lat</th>\n",
       "      <th>end_lon</th>\n",
       "      <th>fare_amt</th>\n",
       "      <th>passenger_count</th>\n",
       "      <th>payment_type</th>\n",
       "      <th>start_lat</th>\n",
       "      <th>start_lon</th>\n",
       "      <th>tip_amt</th>\n",
       "      <th>tolls_amt</th>\n",
       "      <th>total_amt</th>\n",
       "      <th>trip_distance</th>\n",
       "      <th>trip_dropoff_date_time</th>\n",
       "      <th>trip_pickup_date_time</th>\n",
       "      <th>surcharge</th>\n",
       "      <th>vendor_name</th>\n",
       "      <th>_dlt_load_id</th>\n",
       "      <th>_dlt_id</th>\n",
       "      <th>store_and_forward</th>\n",
       "    </tr>\n",
       "  </thead>\n",
       "  <tbody>\n",
       "    <tr>\n",
       "      <th>0</th>\n",
       "      <td>40.742963</td>\n",
       "      <td>-73.980072</td>\n",
       "      <td>45.0</td>\n",
       "      <td>1</td>\n",
       "      <td>Credit</td>\n",
       "      <td>40.641525</td>\n",
       "      <td>-73.787442</td>\n",
       "      <td>9.0</td>\n",
       "      <td>4.15</td>\n",
       "      <td>58.15</td>\n",
       "      <td>17.52</td>\n",
       "      <td>2009-06-14 23:48:00+00:00</td>\n",
       "      <td>2009-06-14 23:23:00+00:00</td>\n",
       "      <td>0.0</td>\n",
       "      <td>VTS</td>\n",
       "      <td>1739811607.3348522</td>\n",
       "      <td>nSxIHxP2FNfcIw</td>\n",
       "      <td>NaN</td>\n",
       "    </tr>\n",
       "    <tr>\n",
       "      <th>1</th>\n",
       "      <td>40.740187</td>\n",
       "      <td>-74.005698</td>\n",
       "      <td>6.5</td>\n",
       "      <td>1</td>\n",
       "      <td>Credit</td>\n",
       "      <td>40.722065</td>\n",
       "      <td>-74.009767</td>\n",
       "      <td>1.0</td>\n",
       "      <td>0.00</td>\n",
       "      <td>8.50</td>\n",
       "      <td>1.56</td>\n",
       "      <td>2009-06-18 17:43:00+00:00</td>\n",
       "      <td>2009-06-18 17:35:00+00:00</td>\n",
       "      <td>1.0</td>\n",
       "      <td>VTS</td>\n",
       "      <td>1739811607.3348522</td>\n",
       "      <td>CsHkNSwo0c54BA</td>\n",
       "      <td>NaN</td>\n",
       "    </tr>\n",
       "    <tr>\n",
       "      <th>2</th>\n",
       "      <td>40.718043</td>\n",
       "      <td>-74.004745</td>\n",
       "      <td>12.5</td>\n",
       "      <td>5</td>\n",
       "      <td>Credit</td>\n",
       "      <td>40.761945</td>\n",
       "      <td>-73.983038</td>\n",
       "      <td>2.0</td>\n",
       "      <td>0.00</td>\n",
       "      <td>15.50</td>\n",
       "      <td>3.37</td>\n",
       "      <td>2009-06-10 18:27:00+00:00</td>\n",
       "      <td>2009-06-10 18:08:00+00:00</td>\n",
       "      <td>1.0</td>\n",
       "      <td>VTS</td>\n",
       "      <td>1739811607.3348522</td>\n",
       "      <td>fYpxXR2rn2+zVw</td>\n",
       "      <td>NaN</td>\n",
       "    </tr>\n",
       "    <tr>\n",
       "      <th>3</th>\n",
       "      <td>40.739637</td>\n",
       "      <td>-73.985233</td>\n",
       "      <td>4.9</td>\n",
       "      <td>1</td>\n",
       "      <td>CASH</td>\n",
       "      <td>40.749802</td>\n",
       "      <td>-73.992247</td>\n",
       "      <td>0.0</td>\n",
       "      <td>0.00</td>\n",
       "      <td>5.40</td>\n",
       "      <td>1.11</td>\n",
       "      <td>2009-06-14 23:58:00+00:00</td>\n",
       "      <td>2009-06-14 23:54:00+00:00</td>\n",
       "      <td>0.5</td>\n",
       "      <td>VTS</td>\n",
       "      <td>1739811607.3348522</td>\n",
       "      <td>D6bW8XFgEX3ZuQ</td>\n",
       "      <td>NaN</td>\n",
       "    </tr>\n",
       "    <tr>\n",
       "      <th>4</th>\n",
       "      <td>40.730032</td>\n",
       "      <td>-73.852693</td>\n",
       "      <td>25.7</td>\n",
       "      <td>1</td>\n",
       "      <td>CASH</td>\n",
       "      <td>40.776825</td>\n",
       "      <td>-73.949233</td>\n",
       "      <td>0.0</td>\n",
       "      <td>4.15</td>\n",
       "      <td>29.85</td>\n",
       "      <td>11.09</td>\n",
       "      <td>2009-06-13 13:23:00+00:00</td>\n",
       "      <td>2009-06-13 13:01:00+00:00</td>\n",
       "      <td>0.0</td>\n",
       "      <td>VTS</td>\n",
       "      <td>1739811607.3348522</td>\n",
       "      <td>g0Ivj9Wd2HqpHg</td>\n",
       "      <td>NaN</td>\n",
       "    </tr>\n",
       "    <tr>\n",
       "      <th>...</th>\n",
       "      <td>...</td>\n",
       "      <td>...</td>\n",
       "      <td>...</td>\n",
       "      <td>...</td>\n",
       "      <td>...</td>\n",
       "      <td>...</td>\n",
       "      <td>...</td>\n",
       "      <td>...</td>\n",
       "      <td>...</td>\n",
       "      <td>...</td>\n",
       "      <td>...</td>\n",
       "      <td>...</td>\n",
       "      <td>...</td>\n",
       "      <td>...</td>\n",
       "      <td>...</td>\n",
       "      <td>...</td>\n",
       "      <td>...</td>\n",
       "      <td>...</td>\n",
       "    </tr>\n",
       "    <tr>\n",
       "      <th>9995</th>\n",
       "      <td>40.783522</td>\n",
       "      <td>-73.970690</td>\n",
       "      <td>5.7</td>\n",
       "      <td>1</td>\n",
       "      <td>CASH</td>\n",
       "      <td>40.778560</td>\n",
       "      <td>-73.953660</td>\n",
       "      <td>0.0</td>\n",
       "      <td>0.00</td>\n",
       "      <td>5.70</td>\n",
       "      <td>1.16</td>\n",
       "      <td>2009-06-19 11:28:00+00:00</td>\n",
       "      <td>2009-06-19 11:22:00+00:00</td>\n",
       "      <td>0.0</td>\n",
       "      <td>VTS</td>\n",
       "      <td>1739811607.3348522</td>\n",
       "      <td>szWMVA6dR7Fbog</td>\n",
       "      <td>NaN</td>\n",
       "    </tr>\n",
       "    <tr>\n",
       "      <th>9996</th>\n",
       "      <td>40.777200</td>\n",
       "      <td>-73.964197</td>\n",
       "      <td>4.1</td>\n",
       "      <td>1</td>\n",
       "      <td>CASH</td>\n",
       "      <td>40.779800</td>\n",
       "      <td>-73.974297</td>\n",
       "      <td>0.0</td>\n",
       "      <td>0.00</td>\n",
       "      <td>4.10</td>\n",
       "      <td>0.89</td>\n",
       "      <td>2009-06-17 07:43:00+00:00</td>\n",
       "      <td>2009-06-17 07:41:00+00:00</td>\n",
       "      <td>0.0</td>\n",
       "      <td>VTS</td>\n",
       "      <td>1739811607.3348522</td>\n",
       "      <td>c9yCtaTcVO0k2Q</td>\n",
       "      <td>NaN</td>\n",
       "    </tr>\n",
       "    <tr>\n",
       "      <th>9997</th>\n",
       "      <td>40.780172</td>\n",
       "      <td>-73.957617</td>\n",
       "      <td>6.1</td>\n",
       "      <td>1</td>\n",
       "      <td>CASH</td>\n",
       "      <td>40.788388</td>\n",
       "      <td>-73.976758</td>\n",
       "      <td>0.0</td>\n",
       "      <td>0.00</td>\n",
       "      <td>6.10</td>\n",
       "      <td>1.30</td>\n",
       "      <td>2009-06-19 11:46:00+00:00</td>\n",
       "      <td>2009-06-19 11:39:00+00:00</td>\n",
       "      <td>0.0</td>\n",
       "      <td>VTS</td>\n",
       "      <td>1739811607.3348522</td>\n",
       "      <td>IveSXUpN+Nqx1Q</td>\n",
       "      <td>NaN</td>\n",
       "    </tr>\n",
       "    <tr>\n",
       "      <th>9998</th>\n",
       "      <td>40.777342</td>\n",
       "      <td>-73.957242</td>\n",
       "      <td>5.7</td>\n",
       "      <td>1</td>\n",
       "      <td>CASH</td>\n",
       "      <td>40.773828</td>\n",
       "      <td>-73.956690</td>\n",
       "      <td>0.0</td>\n",
       "      <td>0.00</td>\n",
       "      <td>6.20</td>\n",
       "      <td>0.97</td>\n",
       "      <td>2009-06-17 04:19:00+00:00</td>\n",
       "      <td>2009-06-17 04:13:00+00:00</td>\n",
       "      <td>0.5</td>\n",
       "      <td>VTS</td>\n",
       "      <td>1739811607.3348522</td>\n",
       "      <td>t+FUSi5A6C2CBA</td>\n",
       "      <td>NaN</td>\n",
       "    </tr>\n",
       "    <tr>\n",
       "      <th>9999</th>\n",
       "      <td>40.757122</td>\n",
       "      <td>-73.986293</td>\n",
       "      <td>6.5</td>\n",
       "      <td>1</td>\n",
       "      <td>Credit</td>\n",
       "      <td>40.756313</td>\n",
       "      <td>-73.972948</td>\n",
       "      <td>2.0</td>\n",
       "      <td>0.00</td>\n",
       "      <td>8.50</td>\n",
       "      <td>0.92</td>\n",
       "      <td>2009-06-17 08:34:00+00:00</td>\n",
       "      <td>2009-06-17 08:24:00+00:00</td>\n",
       "      <td>0.0</td>\n",
       "      <td>VTS</td>\n",
       "      <td>1739811607.3348522</td>\n",
       "      <td>lrfgkOnxfSuzsA</td>\n",
       "      <td>NaN</td>\n",
       "    </tr>\n",
       "  </tbody>\n",
       "</table>\n",
       "<p>10000 rows × 18 columns</p>\n",
       "</div>"
      ],
      "text/plain": [
       "        end_lat    end_lon  fare_amt  passenger_count payment_type  start_lat  \\\n",
       "0     40.742963 -73.980072      45.0                1       Credit  40.641525   \n",
       "1     40.740187 -74.005698       6.5                1       Credit  40.722065   \n",
       "2     40.718043 -74.004745      12.5                5       Credit  40.761945   \n",
       "3     40.739637 -73.985233       4.9                1         CASH  40.749802   \n",
       "4     40.730032 -73.852693      25.7                1         CASH  40.776825   \n",
       "...         ...        ...       ...              ...          ...        ...   \n",
       "9995  40.783522 -73.970690       5.7                1         CASH  40.778560   \n",
       "9996  40.777200 -73.964197       4.1                1         CASH  40.779800   \n",
       "9997  40.780172 -73.957617       6.1                1         CASH  40.788388   \n",
       "9998  40.777342 -73.957242       5.7                1         CASH  40.773828   \n",
       "9999  40.757122 -73.986293       6.5                1       Credit  40.756313   \n",
       "\n",
       "      start_lon  tip_amt  tolls_amt  total_amt  trip_distance  \\\n",
       "0    -73.787442      9.0       4.15      58.15          17.52   \n",
       "1    -74.009767      1.0       0.00       8.50           1.56   \n",
       "2    -73.983038      2.0       0.00      15.50           3.37   \n",
       "3    -73.992247      0.0       0.00       5.40           1.11   \n",
       "4    -73.949233      0.0       4.15      29.85          11.09   \n",
       "...         ...      ...        ...        ...            ...   \n",
       "9995 -73.953660      0.0       0.00       5.70           1.16   \n",
       "9996 -73.974297      0.0       0.00       4.10           0.89   \n",
       "9997 -73.976758      0.0       0.00       6.10           1.30   \n",
       "9998 -73.956690      0.0       0.00       6.20           0.97   \n",
       "9999 -73.972948      2.0       0.00       8.50           0.92   \n",
       "\n",
       "        trip_dropoff_date_time     trip_pickup_date_time  surcharge  \\\n",
       "0    2009-06-14 23:48:00+00:00 2009-06-14 23:23:00+00:00        0.0   \n",
       "1    2009-06-18 17:43:00+00:00 2009-06-18 17:35:00+00:00        1.0   \n",
       "2    2009-06-10 18:27:00+00:00 2009-06-10 18:08:00+00:00        1.0   \n",
       "3    2009-06-14 23:58:00+00:00 2009-06-14 23:54:00+00:00        0.5   \n",
       "4    2009-06-13 13:23:00+00:00 2009-06-13 13:01:00+00:00        0.0   \n",
       "...                        ...                       ...        ...   \n",
       "9995 2009-06-19 11:28:00+00:00 2009-06-19 11:22:00+00:00        0.0   \n",
       "9996 2009-06-17 07:43:00+00:00 2009-06-17 07:41:00+00:00        0.0   \n",
       "9997 2009-06-19 11:46:00+00:00 2009-06-19 11:39:00+00:00        0.0   \n",
       "9998 2009-06-17 04:19:00+00:00 2009-06-17 04:13:00+00:00        0.5   \n",
       "9999 2009-06-17 08:34:00+00:00 2009-06-17 08:24:00+00:00        0.0   \n",
       "\n",
       "     vendor_name        _dlt_load_id         _dlt_id  store_and_forward  \n",
       "0            VTS  1739811607.3348522  nSxIHxP2FNfcIw                NaN  \n",
       "1            VTS  1739811607.3348522  CsHkNSwo0c54BA                NaN  \n",
       "2            VTS  1739811607.3348522  fYpxXR2rn2+zVw                NaN  \n",
       "3            VTS  1739811607.3348522  D6bW8XFgEX3ZuQ                NaN  \n",
       "4            VTS  1739811607.3348522  g0Ivj9Wd2HqpHg                NaN  \n",
       "...          ...                 ...             ...                ...  \n",
       "9995         VTS  1739811607.3348522  szWMVA6dR7Fbog                NaN  \n",
       "9996         VTS  1739811607.3348522  c9yCtaTcVO0k2Q                NaN  \n",
       "9997         VTS  1739811607.3348522  IveSXUpN+Nqx1Q                NaN  \n",
       "9998         VTS  1739811607.3348522  t+FUSi5A6C2CBA                NaN  \n",
       "9999         VTS  1739811607.3348522  lrfgkOnxfSuzsA                NaN  \n",
       "\n",
       "[10000 rows x 18 columns]"
      ]
     },
     "execution_count": 25,
     "metadata": {},
     "output_type": "execute_result"
    }
   ],
   "source": [
    "df = pipeline.dataset(dataset_type=\"default\").rides.df()\n",
    "df"
   ]
  },
  {
   "cell_type": "code",
   "execution_count": null,
   "id": "98692c6d-a47e-4e24-a312-70f8806e8041",
   "metadata": {},
   "outputs": [],
   "source": []
  },
  {
   "cell_type": "markdown",
   "id": "55b0cd07-19b2-4ccd-bc1a-25c8c891e348",
   "metadata": {},
   "source": [
    "### Trip Duration Analysis\n",
    "Lets Calculate the average trip duration in minutes."
   ]
  },
  {
   "cell_type": "code",
   "execution_count": 26,
   "id": "06b34a5d-a46f-407b-8100-ffa1d2b7db77",
   "metadata": {},
   "outputs": [
    {
     "name": "stdout",
     "output_type": "stream",
     "text": [
      "[(12.3049,)]\n"
     ]
    }
   ],
   "source": [
    "with pipeline.sql_client() as client:\n",
    "    res = client.execute_sql(\n",
    "            \"\"\"\n",
    "            SELECT\n",
    "            AVG(date_diff('minute', trip_pickup_date_time, trip_dropoff_date_time))\n",
    "            FROM rides;\n",
    "            \"\"\"\n",
    "        )\n",
    "    # Prints column values of the first row\n",
    "    print(res)"
   ]
  },
  {
   "cell_type": "code",
   "execution_count": null,
   "id": "54553346-c740-4ca4-a8dc-cb5c96d087d8",
   "metadata": {},
   "outputs": [],
   "source": []
  }
 ],
 "metadata": {
  "kernelspec": {
   "display_name": "Python 3 (ipykernel)",
   "language": "python",
   "name": "python3"
  },
  "language_info": {
   "codemirror_mode": {
    "name": "ipython",
    "version": 3
   },
   "file_extension": ".py",
   "mimetype": "text/x-python",
   "name": "python",
   "nbconvert_exporter": "python",
   "pygments_lexer": "ipython3",
   "version": "3.12.8"
  }
 },
 "nbformat": 4,
 "nbformat_minor": 5
}
